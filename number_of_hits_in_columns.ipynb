import pandas as pd
df = pd.read_csv(r'deneme_excel.csv', sep=';')
df
df["prot_coords"].value_counts()
hits=len(df)-256973
hits
